{
  "nbformat": 4,
  "nbformat_minor": 0,
  "metadata": {
    "colab": {
      "provenance": []
    },
    "kernelspec": {
      "name": "python3",
      "display_name": "Python 3"
    },
    "language_info": {
      "name": "python"
    }
  },
  "cells": [
    {
      "cell_type": "markdown",
      "source": [
        "**Automating Data Flow from Marketing System to Google Sheets using Python**\n",
        "\n",
        "In today’s data-driven business landscape, the efficient handling of data is critical for making informed decisions and shaping effective strategies. However, managing data from various sources can be a time-consuming and error-prone process. In this blog post, we will explore a Python script that automates the flow of data from a marketing system accessible through an API to a Google Sheet. This automation not only eliminates manual data entry but also enhances efficiency, ensuring up-to-date and error-free data for analysis and reporting.\n",
        "\n",
        "The need for this automation arose from the challenges faced by a team that required a dashboard based on data stored in a Google Sheet. Historically, the Google Sheet had been filled manually with data from the marketing system. Recognizing that the marketing system provided an API, the team made a strategic decision to automate the process of updating the Google Sheet with fresh data automatically."
      ],
      "metadata": {
        "id": "6DBT2nRSr2OK"
      }
    },
    {
      "cell_type": "markdown",
      "source": [
        "**Understanding the Python Script**\n",
        "\n",
        "To gain a deeper understanding, let’s dissect the Python script step by step:\n",
        "\n",
        "**Section 1: Importing Required Libraries**"
      ],
      "metadata": {
        "id": "KFJM1IoEsG-M"
      }
    },
    {
      "cell_type": "markdown",
      "source": [
        "****"
      ],
      "metadata": {
        "id": "ECrbZK2XjJfl"
      }
    },
    {
      "cell_type": "code",
      "execution_count": 67,
      "metadata": {
        "id": "QkbvqQIBZjOY"
      },
      "outputs": [],
      "source": [
        "import sys\n",
        "import urllib\n",
        "import requests\n",
        "import gspread\n",
        "from oauth2client.service_account import ServiceAccountCredentials\n",
        "import json\n"
      ]
    },
    {
      "cell_type": "markdown",
      "source": [
        "The script begins by importing essential Python libraries. These libraries include sys, urllib, requests, gspread, and ServiceAccountCredentials from the oauth2client.service_account. These libraries are essential for making API requests and connecting to Google Sheets.\n",
        "\n",
        "**Section 2: API Authentication and Data Retrieval**"
      ],
      "metadata": {
        "id": "81eJUeFrsNTP"
      }
    },
    {
      "cell_type": "code",
      "source": [
        "# API Connection and GET Request for Receiving Data in JSON Format\n",
        "# You must adapt this section to your needs\n",
        "\n",
        "token = 'eyJ0eXAiOiJKV1QiLCJhbGciOiJSUzI1NiJ9.eyJhdWQiOiIzMjkiLCJqdGkiOiIyOT...'\n",
        "headers = {\n",
        "    'Content-Type': \"application/json\",\n",
        "    'Authorization': 'Bearer ' + token\n",
        "}\n",
        "\n",
        "# Prepare the query string\n",
        "url = 'https://api.example.com/'\n",
        "data_ini = '2000/01/01'\n",
        "querystring = {\"date_from\": data_ini, \"per_page\": 10}\n",
        "params = urllib.parse.urlencode(querystring, safe='')\n",
        "\n",
        "# Send the GET request\n",
        "try:\n",
        "    res = requests.request(\"GET\", url, headers=headers, params=params)\n",
        "except requests.exceptions.RequestException as e:\n",
        "    print('Error in GET request: %s', str(e))\n",
        "\n",
        "try:\n",
        "    data = res.json()\n",
        "except requests.exceptions.JSONDecodeError as e:\n",
        "    print(\"Erro no parse JSON: %s\", str(e))\n",
        "\n",
        "print(data)"
      ],
      "metadata": {
        "id": "Dd2yKpS5sRbT",
        "colab": {
          "base_uri": "https://localhost:8080/"
        },
        "outputId": "317e1050-4d5a-4ac9-c158-154bd7ffadce"
      },
      "execution_count": 68,
      "outputs": [
        {
          "output_type": "stream",
          "name": "stdout",
          "text": [
            "{'data': [{'id': 22294455, 'name': 'Hewerton Campeao', 'first_interaction_at': None, 'last_interaction_at': None, 'perception': None, 'status': 'pending', 'conversion_goal': 'Instagram', 'flow': 'web', 'contact': {'id': 21584508, 'name': None, 'email': 'hewerton_tst@yahoo.com.br', 'id_number': None, 'phone': '+5516994592824', 'cellphone': None, 'cellphone_is_valid': None, 'birthdate': None, 'first_sale_at': None, 'address': {'address_line1': None, 'address_line2': None, 'address_number': None, 'neighborhood': None, 'city': None, 'state': None, 'country': None, 'zipcode': None}, 'flow': 'web', 'team': {'id': 9632, 'name': 'C.A.D'}, 'attendant': {'id': 41903, 'name': 'Adriano de Paula'}, 'custom_key': None, 'company': {'position': None, 'name': None, 'id_number': None, 'phone': None, 'email': None, 'website': None}}, 'attendant': {'id': 41903, 'name': 'Adriano de Paula'}, 'location': {'id': 3919, 'name': 'Stecar América'}, 'salesman': None, 'interests': {'interest_1': {'id': 34375, 'name': 'Novos', 'required': None}, 'interest_2': {'id': None, 'name': None, 'required': None}, 'interest_3': {'id': None, 'name': None, 'required': None}, 'interest_4': {'id': None, 'name': None, 'required': None}, 'interest_5': {'id': None, 'name': None, 'required': None}, 'interest_6': {'id': None, 'name': None, 'required': None}, 'interest_7': {'id': None, 'name': None, 'required': None}}, 'tracking': {'source': 'Instagram Lead Ads', 'medium': None, 'campaign': '362 - Outubro - Jeep - Personalizado - DDM - Geração de Leads - STECAR - PATIO - 90690', 'term': None, 'format': 'Formulário DDM 2'}, 'legal_bases': {'processing': {'id': None, 'name': None, 'opt_in': None}, 'communication': {'id': None, 'name': None, 'opt_in': None}}, 'last_proposal': None, 'finalization': None, 'last_schedule': None, 'message': 'Destino stellantis: Destino stellantis<br>Modelo: Renegade trailhawk t270 4x4<br>Conditional question 1: SP<br>Conditional question 2: RIBEIRAO PRETO<br>Conditional question 3: JD CANADA - STECAR - 90628<br>First name: Hewerton Campeao<br>Cpf: 393.838.508-17<br>', 'integration_third_party_id': None, 'created_at': '2023-10-29T23:03:57.000000Z', 'updated_at': '2023-10-29T23:03:57.000000Z'}, {'id': 22294328, 'name': 'Roberto Lima', 'first_interaction_at': None, 'last_interaction_at': None, 'perception': None, 'status': 'pending', 'conversion_goal': 'Instagram', 'flow': 'web', 'contact': {'id': 21584397, 'name': None, 'email': 'betoplima@globo.com', 'id_number': None, 'phone': '+5516999916182', 'cellphone': None, 'cellphone_is_valid': None, 'birthdate': None, 'first_sale_at': None, 'address': {'address_line1': None, 'address_line2': None, 'address_number': None, 'neighborhood': None, 'city': None, 'state': None, 'country': None, 'zipcode': None}, 'flow': 'web', 'team': {'id': 9632, 'name': 'C.A.D'}, 'attendant': {'id': 36660, 'name': 'Graziele Hilário'}, 'custom_key': None, 'company': {'position': None, 'name': None, 'id_number': None, 'phone': None, 'email': None, 'website': None}}, 'attendant': {'id': 36660, 'name': 'Graziele Hilário'}, 'location': {'id': 3920, 'name': 'Stecar Mercedes-Benz'}, 'salesman': None, 'interests': {'interest_1': {'id': 34378, 'name': 'Consórcio', 'required': None}, 'interest_2': {'id': 34381, 'name': 'Mercedes-Benz Automóveis', 'required': None}, 'interest_3': {'id': None, 'name': None, 'required': None}, 'interest_4': {'id': 42013, 'name': 'Stecar Mercedes-Benz', 'required': None}, 'interest_5': {'id': None, 'name': None, 'required': None}, 'interest_6': {'id': None, 'name': None, 'required': None}, 'interest_7': {'id': None, 'name': None, 'required': None}}, 'tracking': {'source': 'Instagram Lead Ads', 'medium': None, 'campaign': '[NS] CONSÓRCIO - PROSPECT', 'term': None, 'format': 'Formulário Consórcio MB'}, 'legal_bases': {'processing': {'id': None, 'name': None, 'opt_in': None}, 'communication': {'id': None, 'name': None, 'opt_in': None}}, 'last_proposal': None, 'finalization': None, 'last_schedule': None, 'message': None, 'integration_third_party_id': None, 'created_at': '2023-10-29T22:51:04.000000Z', 'updated_at': '2023-10-29T22:51:04.000000Z'}, {'id': 22292843, 'name': 'Giselle Cristine de Resende Madeira', 'first_interaction_at': None, 'last_interaction_at': None, 'perception': None, 'status': 'pending', 'conversion_goal': 'Proposta Ofertas - Envio de Uma solicitação de proposta ofertas', 'flow': 'web', 'contact': {'id': 21583031, 'name': None, 'email': 'giselleresende5475@gmail.com', 'id_number': None, 'phone': '+55 (35) 99811-7156', 'cellphone': None, 'cellphone_is_valid': None, 'birthdate': None, 'first_sale_at': None, 'address': {'address_line1': None, 'address_line2': None, 'address_number': None, 'neighborhood': None, 'city': None, 'state': None, 'country': None, 'zipcode': None}, 'flow': 'web', 'team': {'id': 9632, 'name': 'C.A.D'}, 'attendant': {'id': 41903, 'name': 'Adriano de Paula'}, 'custom_key': None, 'company': {'position': None, 'name': None, 'id_number': None, 'phone': None, 'email': None, 'website': None}}, 'attendant': {'id': 41903, 'name': 'Adriano de Paula'}, 'location': None, 'salesman': None, 'interests': {'interest_1': {'id': None, 'name': 'Veículos novos - Proposta Ofertas', 'required': None}, 'interest_2': {'id': 34384, 'name': 'Toyota', 'required': None}, 'interest_3': {'id': None, 'name': 'Hilux Cabine Dupla STD Power Pack 2024', 'required': None}, 'interest_4': {'id': None, 'name': None, 'required': None}, 'interest_5': {'id': None, 'name': None, 'required': None}, 'interest_6': {'id': None, 'name': None, 'required': None}, 'interest_7': {'id': None, 'name': None, 'required': None}}, 'tracking': {'source': 'SITE', 'medium': None, 'campaign': None, 'term': None, 'format': None}, 'legal_bases': {'processing': {'id': None, 'name': None, 'opt_in': True}, 'communication': {'id': None, 'name': None, 'opt_in': True}}, 'last_proposal': None, 'finalization': None, 'last_schedule': None, 'message': 'Informações, formas de pagamento ; Itens de série: - Altura (mm): 1.815 - Largura (mm): 1.855 - Comprimento (mm): 5.325 - Entre-eixos (mm): 3.085 - Peso (kg): 2.090 - Tanque (L): 80 - Caçamba (L): 1.000 - Suspensão dianteira: Independente, braços sobrepostos e mola helicoidal - Suspensão traseira: Eixo rígido e feixe de molas semielípticas - Câmbio: Manual de 6 marchas - Tração: Integral temporária - Direção: Hidraúlica - Motorização: 2.8 - Combustível: Diesel - Torque (kgf.m): 42,8 - Velocidade máxima (Km/h): 180 - Potência (cv): 204 - Aceleração 0-100 Km/h (s): 12', 'integration_third_party_id': None, 'created_at': '2023-10-29T20:18:17.000000Z', 'updated_at': '2023-10-29T20:18:17.000000Z'}, {'id': 22292398, 'name': 'Leonardo Carbonaro', 'first_interaction_at': None, 'last_interaction_at': None, 'perception': None, 'status': 'pending', 'conversion_goal': 'Instagram', 'flow': 'web', 'contact': {'id': 21582619, 'name': None, 'email': 'leonardo.carbonaro@gmail.com', 'id_number': None, 'phone': '+5516997322631', 'cellphone': None, 'cellphone_is_valid': None, 'birthdate': None, 'first_sale_at': None, 'address': {'address_line1': None, 'address_line2': None, 'address_number': None, 'neighborhood': None, 'city': None, 'state': None, 'country': None, 'zipcode': None}, 'flow': 'web', 'team': {'id': 9632, 'name': 'C.A.D'}, 'attendant': {'id': 36660, 'name': 'Graziele Hilário'}, 'custom_key': None, 'company': {'position': None, 'name': None, 'id_number': None, 'phone': None, 'email': None, 'website': None}}, 'attendant': {'id': 36660, 'name': 'Graziele Hilário'}, 'location': {'id': 3919, 'name': 'Stecar América'}, 'salesman': None, 'interests': {'interest_1': {'id': 34375, 'name': 'Novos', 'required': None}, 'interest_2': {'id': None, 'name': None, 'required': None}, 'interest_3': {'id': None, 'name': None, 'required': None}, 'interest_4': {'id': None, 'name': None, 'required': None}, 'interest_5': {'id': None, 'name': None, 'required': None}, 'interest_6': {'id': None, 'name': None, 'required': None}, 'interest_7': {'id': None, 'name': None, 'required': None}}, 'tracking': {'source': 'Instagram Lead Ads', 'medium': None, 'campaign': '362 - Outubro - Jeep - Personalizado - DDM - Geração de Leads - STECAR - PATIO - 90690', 'term': None, 'format': 'Formulário DDM 2'}, 'legal_bases': {'processing': {'id': None, 'name': None, 'opt_in': None}, 'communication': {'id': None, 'name': None, 'opt_in': None}}, 'last_proposal': None, 'finalization': None, 'last_schedule': None, 'message': 'Destino stellantis: Destino stellantis<br>Modelo: Compass sport t270<br>Conditional question 1: SP<br>Conditional question 2: RIBEIRAO PRETO<br>Conditional question 3: JD CANADA - STECAR - 90628<br>First name: Leonardo Carbonaro<br>Cpf: 163.531.858-04<br>', 'integration_third_party_id': None, 'created_at': '2023-10-29T19:32:47.000000Z', 'updated_at': '2023-10-29T19:32:47.000000Z'}, {'id': 22292255, 'name': 'Bruna Chagas', 'first_interaction_at': None, 'last_interaction_at': None, 'perception': None, 'status': 'pending', 'conversion_goal': 'Portal Volkswagen', 'flow': 'web', 'contact': {'id': 21582488, 'name': None, 'email': 'brunaceciliagabriela@gmail.com', 'id_number': '10916447642', 'phone': None, 'cellphone': '16993906494', 'cellphone_is_valid': True, 'birthdate': None, 'first_sale_at': None, 'address': {'address_line1': None, 'address_line2': None, 'address_number': None, 'neighborhood': None, 'city': None, 'state': None, 'country': None, 'zipcode': None}, 'flow': 'web', 'team': {'id': 18954, 'name': 'C.A.D VW'}, 'attendant': {'id': 41903, 'name': 'Adriano de Paula'}, 'custom_key': None, 'company': {'position': None, 'name': None, 'id_number': None, 'phone': None, 'email': None, 'website': None}}, 'attendant': {'id': 41903, 'name': 'Adriano de Paula'}, 'location': {'id': 4352, 'name': 'Itacuã VW'}, 'salesman': None, 'interests': {'interest_1': {'id': None, 'name': 'Novo', 'required': None}, 'interest_2': {'id': 34388, 'name': 'Volkswagen', 'required': None}, 'interest_3': {'id': None, 'name': 'T-Cross', 'required': None}, 'interest_4': {'id': None, 'name': None, 'required': None}, 'interest_5': {'id': None, 'name': None, 'required': None}, 'interest_6': {'id': None, 'name': None, 'required': None}, 'interest_7': {'id': None, 'name': None, 'required': None}}, 'tracking': {'source': 'Portal Volkswagen', 'medium': None, 'campaign': 'Site Ofertas', 'term': None, 'format': None}, 'legal_bases': {'processing': {'id': None, 'name': None, 'opt_in': None}, 'communication': {'id': None, 'name': None, 'opt_in': None}}, 'last_proposal': None, 'finalization': None, 'last_schedule': None, 'message': 'Origem: Digital VW\\nSub origem: Site Ofertas\\nPreferência de contato: Email\\n\\nVeículo de interesse\\nVersão: Comfortline 200 TSI Automático\\nPreço: R$ 0,00\\nPreço: R$ 0,00\\nAno do modelo: 2023', 'integration_third_party_id': '00Q6Q000021zpozUAA', 'created_at': '2023-10-29T19:15:38.000000Z', 'updated_at': '2023-10-29T19:15:38.000000Z'}, {'id': 22292006, 'name': 'Rubens Imaizumi', 'first_interaction_at': None, 'last_interaction_at': None, 'perception': None, 'status': 'pending', 'conversion_goal': 'Webmotors', 'flow': 'web', 'contact': {'id': 21582266, 'name': None, 'email': 'rosangelaimaizumi@hotmail.com', 'id_number': None, 'phone': '15988176236', 'cellphone': None, 'cellphone_is_valid': None, 'birthdate': None, 'first_sale_at': None, 'address': {'address_line1': None, 'address_line2': None, 'address_number': None, 'neighborhood': None, 'city': None, 'state': None, 'country': None, 'zipcode': None}, 'flow': 'web', 'team': {'id': 9632, 'name': 'C.A.D'}, 'attendant': {'id': 41903, 'name': 'Adriano de Paula'}, 'custom_key': None, 'company': {'position': None, 'name': None, 'id_number': None, 'phone': None, 'email': None, 'website': None}}, 'attendant': {'id': 41903, 'name': 'Adriano de Paula'}, 'location': {'id': 4095, 'name': 'Toyota Stefani - Araraquara'}, 'salesman': None, 'interests': {'interest_1': {'id': 36874, 'name': 'Seminovos', 'required': None}, 'interest_2': {'id': None, 'name': 'RENAULT', 'required': None}, 'interest_3': {'id': None, 'name': 'SANDERO', 'required': None}, 'interest_4': {'id': None, 'name': '1.6 16V SCE FLEX STEPWAY DYNAMIQUE EASY-R', 'required': None}, 'interest_5': {'id': None, 'name': 'DRI9690', 'required': None}, 'interest_6': {'id': None, 'name': None, 'required': None}, 'interest_7': {'id': None, 'name': None, 'required': None}}, 'tracking': {'source': 'Webmotors', 'medium': None, 'campaign': None, 'term': None, 'format': None}, 'legal_bases': {'processing': {'id': None, 'name': None, 'opt_in': None}, 'communication': {'id': None, 'name': None, 'opt_in': None}}, 'last_proposal': None, 'finalization': None, 'last_schedule': None, 'message': 'Mensagem: Olá, fiz uma simulação de financiamento para este veículo e estou interessado nele. Por favor entre em contato.<br><br><br><strong>Dados do Anúncio</strong><br>Id: 38501349<br>Marca: RENAULT<br>Modelo: SANDERO<br>Versão: 1.6 16V SCE FLEX STEPWAY DYNAMIQUE EASY-R<br>Ano do modelo: 2019<br>Ano de fabricação: 2018<br>Valor: 55890<br>Placa: DRI9690<br>Tipo de Veículo: Usado<br>Blindado: Não<br>', 'integration_third_party_id': '34453084bbb776676a58610821ee70c9', 'created_at': '2023-10-29T18:46:12.000000Z', 'updated_at': '2023-10-29T18:46:12.000000Z'}, {'id': 22291886, 'name': 'Waldyr Enoki', 'first_interaction_at': None, 'last_interaction_at': None, 'perception': None, 'status': 'pending', 'conversion_goal': 'Facebook', 'flow': 'web', 'contact': {'id': 21582160, 'name': None, 'email': 'waldyr.enoki@outlook.com', 'id_number': None, 'phone': '+5516991961761', 'cellphone': None, 'cellphone_is_valid': None, 'birthdate': None, 'first_sale_at': None, 'address': {'address_line1': None, 'address_line2': None, 'address_number': None, 'neighborhood': None, 'city': 'Jaboticabal', 'state': None, 'country': None, 'zipcode': None}, 'flow': 'web', 'team': {'id': 9632, 'name': 'C.A.D'}, 'attendant': {'id': 36660, 'name': 'Graziele Hilário'}, 'custom_key': None, 'company': {'position': None, 'name': None, 'id_number': None, 'phone': None, 'email': None, 'website': None}}, 'attendant': {'id': 36660, 'name': 'Graziele Hilário'}, 'location': {'id': 4734, 'name': 'Stéfani Corretora de Seguros'}, 'salesman': None, 'interests': {'interest_1': {'id': None, 'name': None, 'required': None}, 'interest_2': {'id': None, 'name': None, 'required': None}, 'interest_3': {'id': None, 'name': None, 'required': None}, 'interest_4': {'id': None, 'name': None, 'required': None}, 'interest_5': {'id': None, 'name': None, 'required': None}, 'interest_6': {'id': None, 'name': None, 'required': None}, 'interest_7': {'id': None, 'name': None, 'required': None}}, 'tracking': {'source': 'Facebook Lead Ads', 'medium': None, 'campaign': 'Cadastro_Institucional', 'term': None, 'format': 'Stéfani Seguros - Genérico_New'}, 'legal_bases': {'processing': {'id': None, 'name': None, 'opt_in': None}, 'communication': {'id': None, 'name': None, 'opt_in': None}}, 'last_proposal': None, 'finalization': None, 'last_schedule': None, 'message': 'Já possui algum tipo de seguro?: Sim<br>Que tipo de seguro você está interessado(a)?: Seguro de auto<br>', 'integration_third_party_id': None, 'created_at': '2023-10-29T18:33:42.000000Z', 'updated_at': '2023-10-29T18:33:42.000000Z'}, {'id': 22291860, 'name': 'Daniel R Villani', 'first_interaction_at': None, 'last_interaction_at': None, 'perception': None, 'status': 'pending', 'conversion_goal': 'Instagram', 'flow': 'web', 'contact': {'id': 21582138, 'name': None, 'email': 'Darrvv@gmail.com', 'id_number': None, 'phone': '+5516981447692', 'cellphone': None, 'cellphone_is_valid': None, 'birthdate': None, 'first_sale_at': None, 'address': {'address_line1': None, 'address_line2': None, 'address_number': None, 'neighborhood': None, 'city': None, 'state': None, 'country': None, 'zipcode': None}, 'flow': 'web', 'team': {'id': 9632, 'name': 'C.A.D'}, 'attendant': {'id': 41903, 'name': 'Adriano de Paula'}, 'custom_key': None, 'company': {'position': None, 'name': None, 'id_number': None, 'phone': None, 'email': None, 'website': None}}, 'attendant': {'id': 41903, 'name': 'Adriano de Paula'}, 'location': {'id': 3920, 'name': 'Stecar Mercedes-Benz'}, 'salesman': None, 'interests': {'interest_1': {'id': 34378, 'name': 'Consórcio', 'required': None}, 'interest_2': {'id': 34381, 'name': 'Mercedes-Benz Automóveis', 'required': None}, 'interest_3': {'id': None, 'name': None, 'required': None}, 'interest_4': {'id': 42013, 'name': 'Stecar Mercedes-Benz', 'required': None}, 'interest_5': {'id': None, 'name': None, 'required': None}, 'interest_6': {'id': None, 'name': None, 'required': None}, 'interest_7': {'id': None, 'name': None, 'required': None}}, 'tracking': {'source': 'Instagram Lead Ads', 'medium': None, 'campaign': '[NS] CONSÓRCIO - PROSPECT', 'term': None, 'format': 'Formulário Consórcio MB'}, 'legal_bases': {'processing': {'id': None, 'name': None, 'opt_in': None}, 'communication': {'id': None, 'name': None, 'opt_in': None}}, 'last_proposal': None, 'finalization': None, 'last_schedule': None, 'message': None, 'integration_third_party_id': None, 'created_at': '2023-10-29T18:29:36.000000Z', 'updated_at': '2023-10-29T18:29:36.000000Z'}, {'id': 22291730, 'name': 'Fabrício de Oliveira Lima', 'first_interaction_at': None, 'last_interaction_at': None, 'perception': None, 'status': 'pending', 'conversion_goal': 'Proposta novos - Envio de Uma solicitação de proposta novos', 'flow': 'web', 'contact': {'id': 21582016, 'name': None, 'email': 'fabricio_precisao@hotmail.com', 'id_number': None, 'phone': '+55 (17) 99768-0603', 'cellphone': None, 'cellphone_is_valid': None, 'birthdate': None, 'first_sale_at': None, 'address': {'address_line1': None, 'address_line2': None, 'address_number': None, 'neighborhood': None, 'city': None, 'state': None, 'country': None, 'zipcode': None}, 'flow': 'web', 'team': {'id': 9632, 'name': 'C.A.D'}, 'attendant': {'id': 36660, 'name': 'Graziele Hilário'}, 'custom_key': None, 'company': {'position': None, 'name': None, 'id_number': None, 'phone': None, 'email': None, 'website': None}}, 'attendant': {'id': 36660, 'name': 'Graziele Hilário'}, 'location': None, 'salesman': None, 'interests': {'interest_1': {'id': None, 'name': 'Veículos novos - Proposta novos', 'required': None}, 'interest_2': {'id': 34388, 'name': 'Volkswagen', 'required': None}, 'interest_3': {'id': None, 'name': 'Taos Highline 250 TSI', 'required': None}, 'interest_4': {'id': None, 'name': None, 'required': None}, 'interest_5': {'id': None, 'name': None, 'required': None}, 'interest_6': {'id': None, 'name': None, 'required': None}, 'interest_7': {'id': None, 'name': None, 'required': None}}, 'tracking': {'source': 'SITE', 'medium': None, 'campaign': None, 'term': None, 'format': None}, 'legal_bases': {'processing': {'id': None, 'name': None, 'opt_in': True}, 'communication': {'id': None, 'name': None, 'opt_in': True}}, 'last_proposal': None, 'finalization': None, 'last_schedule': None, 'message': '; Nome do veiculo: Taos; Página de detalhes do veículo: http://itacua.com.br/novos/modelo/volkswagen-taos; Modelo em estoque: Taos; Preço: undefined; Ano: 2023; Itens de série: - Altura (mm): 1626 - Largura (mm): 1841 - Comprimento (mm): 4461 - Entre-eixos (mm): 2680 - Peso (kg): 1420 - Tanque (L): 51 - Porta-malas (L): 498 - Ocupantes: 5 - Suspensão dianteira: Intependente, McPherson - Suspensão traseira: Independente, multibraço - Câmbio: Automático de 6 marchas - Tração: Dianteira - Direção: Elétrica - Freios: Disco ventilado (dianteiros) / Disco sólido (traseiros) - Motorização: 1.4 TSi - Combustível: Flex (álcool/gasolina) - Torque (kgf.m): 25,5 - Velocidade máxima (Km/h): 194 - Consumo estrada (álcool, km/l): 9,1 - Consumo estrada (gasolina, km/l): 13 - Potência (cv): 150 - Consumo cidade (Km/L) (Álcool): 7,6 - Consumo cidade (Km/L) (Gasolina): 10,9 - Aceleração 0-100 Km/h (s): 9,3', 'integration_third_party_id': None, 'created_at': '2023-10-29T18:16:58.000000Z', 'updated_at': '2023-10-29T18:16:58.000000Z'}, {'id': 22291592, 'name': 'Vitor do Prado Marangoni', 'first_interaction_at': None, 'last_interaction_at': None, 'perception': None, 'status': 'pending', 'conversion_goal': 'Serviços - Envio de Uma solicitação de serviços', 'flow': 'web', 'contact': {'id': 21581887, 'name': None, 'email': 'vitor.marangoni@hotmail.com', 'id_number': None, 'phone': '+55 (16) 9926-69229', 'cellphone': None, 'cellphone_is_valid': None, 'birthdate': None, 'first_sale_at': None, 'address': {'address_line1': None, 'address_line2': None, 'address_number': None, 'neighborhood': None, 'city': None, 'state': None, 'country': None, 'zipcode': None}, 'flow': 'web', 'team': {'id': 9632, 'name': 'C.A.D'}, 'attendant': {'id': 41903, 'name': 'Adriano de Paula'}, 'custom_key': None, 'company': {'position': None, 'name': None, 'id_number': None, 'phone': None, 'email': None, 'website': None}}, 'attendant': {'id': 41903, 'name': 'Adriano de Paula'}, 'location': None, 'salesman': None, 'interests': {'interest_1': {'id': None, 'name': 'Serviços - Serviços', 'required': None}, 'interest_2': {'id': None, 'name': None, 'required': None}, 'interest_3': {'id': None, 'name': None, 'required': None}, 'interest_4': {'id': None, 'name': None, 'required': None}, 'interest_5': {'id': None, 'name': None, 'required': None}, 'interest_6': {'id': None, 'name': None, 'required': None}, 'interest_7': {'id': None, 'name': None, 'required': None}}, 'tracking': {'source': 'SITE', 'medium': None, 'campaign': None, 'term': None, 'format': None}, 'legal_bases': {'processing': {'id': None, 'name': None, 'opt_in': True}, 'communication': {'id': None, 'name': None, 'opt_in': True}}, 'last_proposal': None, 'finalization': None, 'last_schedule': None, 'message': 'Bom dia, gostaria de um orçamento para a realização dos seguintes serviços:\\r\\n\\r\\n- Troca dos amortecedores\\r\\n- Alinhamento e balanceamento\\r\\n- Verificar barulho na roda traseira direita\\r\\n- Verificar freio de mão e sistema de freio\\r\\n\\r\\nO veiculo é um fox 2006&#x2F;2007', 'integration_third_party_id': None, 'created_at': '2023-10-29T18:04:22.000000Z', 'updated_at': '2023-10-29T18:04:22.000000Z'}], 'links': {'first': 'http://api.followize.com.br/v3/leads?page=1', 'last': 'http://api.followize.com.br/v3/leads?page=2216', 'prev': None, 'next': 'http://api.followize.com.br/v3/leads?page=2'}, 'meta': {'current_page': 1, 'from': 1, 'last_page': 2216, 'links': [{'url': None, 'label': 'pagination.previous', 'active': False}, {'url': 'http://api.followize.com.br/v3/leads?page=1', 'label': '1', 'active': True}, {'url': 'http://api.followize.com.br/v3/leads?page=2', 'label': '2', 'active': False}, {'url': 'http://api.followize.com.br/v3/leads?page=3', 'label': '3', 'active': False}, {'url': 'http://api.followize.com.br/v3/leads?page=4', 'label': '4', 'active': False}, {'url': 'http://api.followize.com.br/v3/leads?page=5', 'label': '5', 'active': False}, {'url': 'http://api.followize.com.br/v3/leads?page=6', 'label': '6', 'active': False}, {'url': 'http://api.followize.com.br/v3/leads?page=7', 'label': '7', 'active': False}, {'url': 'http://api.followize.com.br/v3/leads?page=8', 'label': '8', 'active': False}, {'url': 'http://api.followize.com.br/v3/leads?page=9', 'label': '9', 'active': False}, {'url': 'http://api.followize.com.br/v3/leads?page=10', 'label': '10', 'active': False}, {'url': None, 'label': '...', 'active': False}, {'url': 'http://api.followize.com.br/v3/leads?page=2215', 'label': '2215', 'active': False}, {'url': 'http://api.followize.com.br/v3/leads?page=2216', 'label': '2216', 'active': False}, {'url': 'http://api.followize.com.br/v3/leads?page=2', 'label': 'pagination.next', 'active': False}], 'path': 'http://api.followize.com.br/v3/leads', 'per_page': 10, 'to': 10, 'total': 22152}}\n"
          ]
        }
      ]
    },
    {
      "cell_type": "markdown",
      "source": [
        "This section focuses on API authentication and data retrieval. The script sets up the API authentication by using a token and sends a GET request to the marketing system’s API. The token and headers are used for authorization, and the requests library is employed to send the GET request with specified query parameters.\n",
        "\n",
        "**Section 3: Token Validation**"
      ],
      "metadata": {
        "id": "-xMaPKYfsVt9"
      }
    },
    {
      "cell_type": "code",
      "source": [
        "# If there is an error due to an invalid token, attempt to update it\n",
        "if data.get('message') == 'Unauthenticated.':\n",
        "    print('Invalid token, updating.')\n"
      ],
      "metadata": {
        "id": "pHEwbpXxscF_"
      },
      "execution_count": 69,
      "outputs": []
    },
    {
      "cell_type": "markdown",
      "source": [
        "Following data retrieval, this part of the script checks if the API response contains the message “Unauthenticated.” If the token is found to be invalid or expired, the script is aborted.\n",
        "\n",
        "**Section 4: Integration with Google Sheets**\n",
        "\n",
        "This section is crucial for integrating the script with Google Sheets. Let’s break it down line by line:"
      ],
      "metadata": {
        "id": "KROEKjqosfSo"
      }
    },
    {
      "cell_type": "code",
      "source": [
        "key = 'integracao-example-dc09e266cb63.json'\n"
      ],
      "metadata": {
        "id": "_8M8SEgNsi5Z"
      },
      "execution_count": 70,
      "outputs": []
    },
    {
      "cell_type": "markdown",
      "source": [
        "In this line, the script assigns the file name ‘integracao-example-dc09e266cb63.json’ to the key variable.\n",
        "\n",
        "This JSON file typically contains the credentials required for accessing Google Sheets.\n",
        "This file is provided by Google. [Follow this instructions to obtain yours.](https://devdf.com.br/2023/10/29/authenticating-and-accessing-google-sheets-api-a-step-by-step-guide/)"
      ],
      "metadata": {
        "id": "GSPNDxZLs0L_"
      }
    },
    {
      "cell_type": "code",
      "source": [
        "id_sheet = '1PKT7Ax_vzGCBz71akLu3geQ1HBqqGrwcgVxclcl80cI'"
      ],
      "metadata": {
        "id": "vNUOcObGs9vz"
      },
      "execution_count": 71,
      "outputs": []
    },
    {
      "cell_type": "markdown",
      "source": [
        "The id_sheet variable is assigned the value 1PKT7Ax_vzGCBz71akLu33eQ1GBqdGrwcgVxclcl80cI,’ which is the unique identifier of the Google Sheet to which the data will be inserted."
      ],
      "metadata": {
        "id": "4iJ-FfJFtDUY"
      }
    },
    {
      "cell_type": "code",
      "source": [
        "scope = [\"https://www.googleapis.com/auth/spreadsheets\"]"
      ],
      "metadata": {
        "id": "ZnevftWvtO5F"
      },
      "execution_count": 72,
      "outputs": []
    },
    {
      "cell_type": "markdown",
      "source": [
        "This line specifies the desired scope of access for Google Sheets, including authorization for managing spreadsheets."
      ],
      "metadata": {
        "id": "oyZ9Yt-rtR-x"
      }
    },
    {
      "cell_type": "code",
      "source": [
        "creds = ServiceAccountCredentials.from_json_keyfile_name(key, scope)"
      ],
      "metadata": {
        "id": "AnT0lOq7tUNs"
      },
      "execution_count": 73,
      "outputs": []
    },
    {
      "cell_type": "markdown",
      "source": [
        "The script utilizes the ServiceAccountCredentials.from_json_keyfile_name method to create credentials using the provided JSON key file (key) and the specified scope (scope). These credentials are fundamental for authenticating the script with Google Sheets."
      ],
      "metadata": {
        "id": "PhwiNmmT1AER"
      }
    },
    {
      "cell_type": "code",
      "source": [
        "client = gspread.authorize(creds)"
      ],
      "metadata": {
        "id": "oPo5tjsh1EYA"
      },
      "execution_count": 74,
      "outputs": []
    },
    {
      "cell_type": "markdown",
      "source": [
        "The client variable is set to the result of authorizing the script using the previously generated credentials. This step enables the script to interact with Google Sheets on behalf of the authorized user."
      ],
      "metadata": {
        "id": "FGaLDphptWAa"
      }
    },
    {
      "cell_type": "code",
      "source": [
        "spreadsheet = client.open_by_key(id_sheet)"
      ],
      "metadata": {
        "id": "Y5USs9yqtebG"
      },
      "execution_count": 75,
      "outputs": []
    },
    {
      "cell_type": "markdown",
      "source": [
        "Here, the spreadsheet variable is assigned the result of opening the Google Sheet identified by id_sheet. This allows the script to access and manipulate the specified Google Sheet."
      ],
      "metadata": {
        "id": "k5KCyywCthny"
      }
    },
    {
      "cell_type": "code",
      "source": [
        "sheet = spreadsheet.get_worksheet(0)"
      ],
      "metadata": {
        "id": "11yjSe6vtjzo"
      },
      "execution_count": 76,
      "outputs": []
    },
    {
      "cell_type": "markdown",
      "source": [
        "Finally, the sheet variable is set to the first worksheet (index 0) within the opened Google Sheet. This is the target worksheet where the data will be populated."
      ],
      "metadata": {
        "id": "QzmMxDcytoJN"
      }
    },
    {
      "cell_type": "code",
      "source": [
        "# Clear the spreadsheet\n",
        "sheet.clear()"
      ],
      "metadata": {
        "id": "rx-lBKDStpE8",
        "colab": {
          "base_uri": "https://localhost:8080/"
        },
        "outputId": "c1ff5a3e-1c0c-4ead-f479-df4fbcda109c"
      },
      "execution_count": 77,
      "outputs": [
        {
          "output_type": "execute_result",
          "data": {
            "text/plain": [
              "{'spreadsheetId': '1PKT7Ax_vzGCBz71akLu3geQ1HBqqGrwcgVxclcl80cI',\n",
              " 'clearedRange': \"'Página1'!A1:AW20596\"}"
            ]
          },
          "metadata": {},
          "execution_count": 77
        }
      ]
    },
    {
      "cell_type": "markdown",
      "source": [
        "The accompanying comment indicates that the script is about to clear the contents of the selected Google Sheet, preparing it for data insertion. This is achieved using the sheet.clear() method, ensuring a clean slate before the new data is inserted.\n",
        "\n",
        "**Section 5: Data Processing and Insertion**"
      ],
      "metadata": {
        "id": "nF-Esn2HtrUq"
      }
    },
    {
      "cell_type": "code",
      "source": [
        "# Record lead data in a list, one lead at a time\n",
        "total_rows = []\n",
        "for lead in data['data']:\n",
        "    row = []\n",
        "    row.append(lead['id'])\n",
        "    row.append(lead['created_at'])\n",
        "    row.append(lead['contact']['address']['city'])\n",
        "    row.append(lead['status'])\n",
        "    row.append(lead['interests']['interest_1']['name'])\n",
        "    row.append(lead['conversion_goal'])\n",
        "    row.append(lead['tracking']['source'])\n",
        "    row.append(lead['tracking']['medium'])\n",
        "    total_rows.append(row)"
      ],
      "metadata": {
        "id": "rnBaTEUPtwqY"
      },
      "execution_count": 78,
      "outputs": []
    },
    {
      "cell_type": "markdown",
      "source": [
        "In this section, the script processes the lead data retrieved from the API. It iterates through each lead, extracting essential information such as lead ID, creation date, city, status, interests, conversion goals, and tracking details. This information is structured into rows and appended to a list named total_rows.\n",
        "\n",
        "**Section 6: Populating the Google Sheet**"
      ],
      "metadata": {
        "id": "8DD04qAftyq8"
      }
    },
    {
      "cell_type": "code",
      "source": [
        "# Send the list of leads to the spreadsheet\n",
        "sheet.append_rows(total_rows)"
      ],
      "metadata": {
        "id": "42hMhaVgt32m",
        "colab": {
          "base_uri": "https://localhost:8080/"
        },
        "outputId": "85fcdcb1-c280-4d6b-a108-f8134c04f657"
      },
      "execution_count": 79,
      "outputs": [
        {
          "output_type": "execute_result",
          "data": {
            "text/plain": [
              "{'spreadsheetId': '1PKT7Ax_vzGCBz71akLu3geQ1HBqqGrwcgVxclcl80cI',\n",
              " 'updates': {'spreadsheetId': '1PKT7Ax_vzGCBz71akLu3geQ1HBqqGrwcgVxclcl80cI',\n",
              "  'updatedRange': \"'Página1'!A1:G10\",\n",
              "  'updatedRows': 10,\n",
              "  'updatedColumns': 7,\n",
              "  'updatedCells': 60}}"
            ]
          },
          "metadata": {},
          "execution_count": 79
        }
      ]
    },
    {
      "cell_type": "markdown",
      "source": [
        "In the final step, the script appends the processed\n",
        "\n",
        "**Conclusion**\n",
        "\n",
        "Automating the flow of data from marketing systems to Google Sheets, as demonstrated by this Python script, is a valuable way to save time and ensure data accuracy. This automation eliminates the need for manual data entry, reduces the risk of errors, and provides up-to-date information for analysis and decision-making. This script empowers businesses to leverage their data more effectively, focusing on deriving insights rather than performing data entry and updates manually.\n",
        "\n",
        "Incorporating this script into your workflow can significantly improve data management and reporting processes, providing a competitive advantage in today’s data-driven business landscape. Python’s versatility in handling data-related tasks makes it a powerful tool for streamlining business operations."
      ],
      "metadata": {
        "id": "RGHRl-dTt4x1"
      }
    }
  ]
}